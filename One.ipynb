{
 "cells": [
  {
   "cell_type": "markdown",
   "id": "9124aaff",
   "metadata": {},
   "source": [
    "Learning Numpy"
   ]
  },
  {
   "cell_type": "code",
   "execution_count": 2,
   "id": "62d004e9",
   "metadata": {},
   "outputs": [],
   "source": [
    "import numpy as np"
   ]
  },
  {
   "cell_type": "markdown",
   "id": "078bccaa",
   "metadata": {},
   "source": [
    "creating array from list"
   ]
  },
  {
   "cell_type": "code",
   "execution_count": 6,
   "id": "891a91f6",
   "metadata": {},
   "outputs": [
    {
     "name": "stdout",
     "output_type": "stream",
     "text": [
      "1D Array: [1 2 3 4 5]\n",
      "2D Array:\n",
      " [[1 2 3]\n",
      " [4 5 6]]\n"
     ]
    }
   ],
   "source": [
    "arr_1d = np.array([1, 2, 3, 4, 5]) #1D array(vector)\n",
    "print(\"1D Array:\", arr_1d)\n",
    "\n",
    "arr_2d = np.array([[1, 2, 3], [4, 5, 6]]) #2D array(matrix)\n",
    "print(\"2D Array:\\n\", arr_2d)\n"
   ]
  },
  {
   "cell_type": "markdown",
   "id": "ce586612",
   "metadata": {},
   "source": [
    "List vs numpy array"
   ]
  },
  {
   "cell_type": "code",
   "execution_count": 7,
   "id": "1c2bbcb8",
   "metadata": {},
   "outputs": [
    {
     "name": "stdout",
     "output_type": "stream",
     "text": [
      "Python list multiplication: [1, 2, 3, 4, 5, 1, 2, 3, 4, 5]\n",
      "NumPy array multiplication: [ 2  4  6  8 10]\n"
     ]
    }
   ],
   "source": [
    "py_list = [1, 2, 3, 4, 5] #Python list\n",
    "print(\"Python list multiplication:\", py_list * 2)\n",
    "\n",
    "np_array = np.array([1, 2, 3, 4, 5]) #NumPy array\n",
    "print(\"NumPy array multiplication:\", np_array * 2)"
   ]
  },
  {
   "cell_type": "markdown",
   "id": "dd4743ce",
   "metadata": {},
   "source": [
    "Creating arrays from scratch"
   ]
  },
  {
   "cell_type": "code",
   "execution_count": 9,
   "id": "d73e3591",
   "metadata": {},
   "outputs": [
    {
     "name": "stdout",
     "output_type": "stream",
     "text": [
      "2D Array of Zeros:\n",
      " [[0. 0. 0.]\n",
      " [0. 0. 0.]]\n",
      "2D Array of Ones:\n",
      " [[1. 1. 1.]\n",
      " [1. 1. 1.]]\n",
      "2D Array filled with 7:\n",
      " [[7 7 7]\n",
      " [7 7 7]]\n",
      "2D Array of Random Floats:\n",
      " [[0.30132658 0.11791289 0.96847363]\n",
      " [0.76194944 0.07965563 0.76813065]]\n",
      "1D Array with Sequence from 0 to 10 with step 2: [0 2 4 6 8]\n"
     ]
    }
   ],
   "source": [
    "zeros = np.zeros((2, 3)) #2D array of zeros(2 rows, 3 columns)\n",
    "print(\"2D Array of Zeros:\\n\", zeros)\n",
    "\n",
    "ones = np.ones((2, 3)) #2D array of ones(2 rows, 3 columns)\n",
    "print(\"2D Array of Ones:\\n\", ones)\n",
    "\n",
    "full = np.full((2, 3), 7) #2D array filled with a constant value 7 (2 rows, 3 columns)\n",
    "print(\"2D Array filled with 7:\\n\", full)\n",
    "\n",
    "random = np.random.random((2, 3)) #2D array of random floats (2 rows, 3 columns)\n",
    "print(\"2D Array of Random Floats:\\n\", random)\n",
    "\n",
    "sequence = np.arange(0, 10, 2) #1D array with a sequence of numbers from 0 to 10 with a step of 2\n",
    "print(\"1D Array with Sequence from 0 to 10 with step 2:\", sequence)"
   ]
  },
  {
   "cell_type": "markdown",
   "id": "95138793",
   "metadata": {},
   "source": [
    "Vector, Matrix & Tensor"
   ]
  },
  {
   "cell_type": "code",
   "execution_count": 10,
   "id": "5eaa1327",
   "metadata": {},
   "outputs": [
    {
     "name": "stdout",
     "output_type": "stream",
     "text": [
      "1D Array (Vector): [1 2 3]\n",
      "2D Array (Matrix):\n",
      " [[1 2]\n",
      " [3 4]]\n",
      "Multidimensional Array (Tensor):\n",
      " [[[1 2]\n",
      "  [3 4]]\n",
      "\n",
      " [[5 6]\n",
      "  [7 8]]]\n"
     ]
    }
   ],
   "source": [
    "vector = np.array([1, 2, 3]) #1D array(vector)\n",
    "print(\"1D Array (Vector):\", vector)\n",
    "\n",
    "matrix = np.array([[1, 2], [3, 4]]) #2D array(matrix)\n",
    "print(\"2D Array (Matrix):\\n\", matrix)\n",
    "\n",
    "tensor = np.array([[[1,2], [3,4]],\n",
    "                   [[5,6], [7,8]]]) #multidimensionnal array(tensor)\n",
    "print(\"Multidimensional Array (Tensor):\\n\", tensor)"
   ]
  },
  {
   "cell_type": "markdown",
   "id": "8eeaffb1",
   "metadata": {},
   "source": [
    "Properties of Array"
   ]
  },
  {
   "cell_type": "code",
   "execution_count": 12,
   "id": "c870a454",
   "metadata": {},
   "outputs": [
    {
     "name": "stdout",
     "output_type": "stream",
     "text": [
      "Shape of arr: (5,)\n",
      "Data type of arr: int32\n",
      "Size of arr: 5\n",
      "Number of dimensions of arr: 1\n"
     ]
    }
   ],
   "source": [
    "arr = np.array([1, 2, 3, 4, 5]) \n",
    "\n",
    "print(\"Shape of arr:\", arr.shape) #shape of the array\n",
    "print(\"Data type of arr:\", arr.dtype) #data type of the array\n",
    "print(\"Size of arr:\", arr.size) #size of the array\n",
    "print(\"Number of dimensions of arr:\", arr.ndim) #number of dimensions of the array"
   ]
  },
  {
   "cell_type": "markdown",
   "id": "b2baf44d",
   "metadata": {},
   "source": [
    "Reshaping of Array"
   ]
  },
  {
   "cell_type": "code",
   "execution_count": 13,
   "id": "e4d6ae76",
   "metadata": {},
   "outputs": [
    {
     "name": "stdout",
     "output_type": "stream",
     "text": [
      "Original array  [ 0  1  2  3  4  5  6  7  8  9 10 11]\n",
      "\n",
      " Reshaped array  [[ 0  1  2  3]\n",
      " [ 4  5  6  7]\n",
      " [ 8  9 10 11]]\n",
      "\n",
      " Flattened array  [ 0  1  2  3  4  5  6  7  8  9 10 11]\n",
      "\n",
      " raveled array  [ 0  1  2  3  4  5  6  7  8  9 10 11]\n",
      "\n",
      " Transposed array  [[ 0  4  8]\n",
      " [ 1  5  9]\n",
      " [ 2  6 10]\n",
      " [ 3  7 11]]\n"
     ]
    }
   ],
   "source": [
    "arr = np.arange(12)\n",
    "print(\"Original array \", arr)\n",
    "\n",
    "reshaped = arr.reshape((3, 4))\n",
    "print(\"\\n Reshaped array \", reshaped)\n",
    "\n",
    "flattened = reshaped.flatten()\n",
    "print(\"\\n Flattened array \", flattened)\n",
    "\n",
    "# ravel (returns view, instead of copy)\n",
    "raveled = reshaped.ravel()\n",
    "print(\"\\n raveled array \", raveled)\n",
    "\n",
    "# Transpose\n",
    "transpose = reshaped.T\n",
    "print(\"\\n Transposed array \", transpose)"
   ]
  }
 ],
 "metadata": {
  "kernelspec": {
   "display_name": "Python 3",
   "language": "python",
   "name": "python3"
  },
  "language_info": {
   "codemirror_mode": {
    "name": "ipython",
    "version": 3
   },
   "file_extension": ".py",
   "mimetype": "text/x-python",
   "name": "python",
   "nbconvert_exporter": "python",
   "pygments_lexer": "ipython3",
   "version": "3.12.8"
  }
 },
 "nbformat": 4,
 "nbformat_minor": 5
}
