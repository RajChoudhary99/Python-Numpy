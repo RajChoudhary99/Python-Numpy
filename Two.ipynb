{
 "cells": [
  {
   "cell_type": "markdown",
   "id": "77023077",
   "metadata": {},
   "source": [
    "Numpy Array Operations"
   ]
  },
  {
   "cell_type": "code",
   "execution_count": 1,
   "id": "c9b47f96",
   "metadata": {},
   "outputs": [],
   "source": [
    "import numpy as np"
   ]
  },
  {
   "cell_type": "code",
   "execution_count": 2,
   "id": "66f354fe",
   "metadata": {},
   "outputs": [
    {
     "name": "stdout",
     "output_type": "stream",
     "text": [
      "Basic Slicing [3 4 5]\n",
      "Slicing with step [2 4 6 8]\n",
      "Slicing with negative indices [6 7 8]\n"
     ]
    }
   ],
   "source": [
    "arr = np.array([1, 2, 3, 4, 5, 6, 7, 8, 9, 10])\n",
    "print(\"Basic Slicing\", arr[2:5])  # Slicing from index 2 to 4\n",
    "print(\"Slicing with step\", arr[1:8:2])  # Slicing from index 1 to 7 with a step of 2\n",
    "print(\"Slicing with negative indices\", arr[-5:-2])  # Slicing from index -5 to -3"
   ]
  },
  {
   "cell_type": "code",
   "execution_count": 3,
   "id": "fd74ab95",
   "metadata": {},
   "outputs": [
    {
     "name": "stdout",
     "output_type": "stream",
     "text": [
      "Specific element 6\n",
      "entire row [4 5 6]\n",
      "entire column [2 5 8]\n"
     ]
    }
   ],
   "source": [
    "arr_2d = np.array([[1, 2, 3], \n",
    "                   [4, 5, 6],\n",
    "                   [7, 8, 9]])\n",
    "print(\"Specific element\", arr_2d[1, 2])  # Accessing element at row 1, column 2(Here rows and columns start from 0)\n",
    "print(\"entire row\", arr_2d[1])  # Accessing entire row at index 1\n",
    "print(\"entire column\", arr_2d[:, 1])  # Accessing entire column at index 1(: means selecting all availaible rows)"
   ]
  },
  {
   "cell_type": "markdown",
   "id": "63502f6c",
   "metadata": {},
   "source": [
    "Sorting"
   ]
  },
  {
   "cell_type": "code",
   "execution_count": null,
   "id": "e2e3f8da",
   "metadata": {},
   "outputs": [
    {
     "name": "stdout",
     "output_type": "stream",
     "text": [
      "Sorted array [1 2 3 4 5]\n",
      "Sorted 2D array along axis 0 [[2 1 4]\n",
      " [3 5 6]\n",
      " [9 7 8]]\n",
      "Sorted 2D array along axis 1 [[1 3 4]\n",
      " [2 5 6]\n",
      " [7 8 9]]\n"
     ]
    }
   ],
   "source": [
    "unsorted = np.array([3, 1, 4, 2, 5])\n",
    "print(\"Sorted array\", np.sort(unsorted))  # Sorting the array\n",
    "\n",
    "arr_2d_unsorted = np.array([[3, 1, 4],\n",
    "                            [2, 5, 6],\n",
    "                            [9, 7, 8]])\n",
    "print(\"Sorted 2D array along axis 0\", np.sort(arr_2d_unsorted, axis=0))  # Sorting along columns(commonly used)\n",
    "print(\"Sorted 2D array along axis 1\", np.sort(arr_2d_unsorted, axis=1))  # Sorting along rows"
   ]
  },
  {
   "cell_type": "markdown",
   "id": "111a940c",
   "metadata": {},
   "source": [
    "Filtering"
   ]
  },
  {
   "cell_type": "code",
   "execution_count": 6,
   "id": "c0f035c8",
   "metadata": {},
   "outputs": [
    {
     "name": "stdout",
     "output_type": "stream",
     "text": [
      "Even numbers from the array [2 4]\n",
      "Odd numbers from the array [1 3 5]\n"
     ]
    }
   ],
   "source": [
    "numbers = np.array([1, 2, 3, 4, 5])\n",
    "even_numbers = numbers[numbers % 2 == 0]  #even numbers\n",
    "print(\"Even numbers from the array\", even_numbers)  # Filtering even numbers\n",
    "odd_numbers = numbers[numbers % 2 != 0]  #odd numbers\n",
    "print(\"Odd numbers from the array\", odd_numbers)  # Filtering odd numbers"
   ]
  },
  {
   "cell_type": "markdown",
   "id": "4d7506e8",
   "metadata": {},
   "source": [
    "Filtering with mask"
   ]
  },
  {
   "cell_type": "code",
   "execution_count": 9,
   "id": "77db1fa9",
   "metadata": {},
   "outputs": [
    {
     "name": "stdout",
     "output_type": "stream",
     "text": [
      "Mask for numbers greater than 2 [3 4 5]\n"
     ]
    }
   ],
   "source": [
    "mask = numbers > 2\n",
    "print(\"Mask for numbers greater than 2\", numbers[mask])  # Creating a mask for numbers greater than 2"
   ]
  },
  {
   "cell_type": "markdown",
   "id": "d1c0bdb3",
   "metadata": {},
   "source": [
    "Adding & Removing data"
   ]
  },
  {
   "cell_type": "code",
   "execution_count": 11,
   "id": "68f9b55d",
   "metadata": {},
   "outputs": [
    {
     "name": "stdout",
     "output_type": "stream",
     "text": [
      "Concatenated array [1 2 3 4 5 6]\n",
      "Array after deleting element at index 2 [1 2 4 5]\n"
     ]
    }
   ],
   "source": [
    "#adding(combining)\n",
    "arr1 = np.array([1, 2, 3])\n",
    "arr2 = np.array([4, 5, 6])\n",
    "print(\"Concatenated array\", np.concatenate((arr1, arr2)))  # Concatenating two arrays\n",
    "\n",
    "#deleting(removing)\n",
    "arr = np.array([1, 2, 3, 4, 5])\n",
    "print(\"Array after deleting element at index 2\", np.delete(arr, 2))  # Deleting element at index 2"
   ]
  }
 ],
 "metadata": {
  "kernelspec": {
   "display_name": "Python 3",
   "language": "python",
   "name": "python3"
  },
  "language_info": {
   "codemirror_mode": {
    "name": "ipython",
    "version": 3
   },
   "file_extension": ".py",
   "mimetype": "text/x-python",
   "name": "python",
   "nbconvert_exporter": "python",
   "pygments_lexer": "ipython3",
   "version": "3.12.8"
  }
 },
 "nbformat": 4,
 "nbformat_minor": 5
}
